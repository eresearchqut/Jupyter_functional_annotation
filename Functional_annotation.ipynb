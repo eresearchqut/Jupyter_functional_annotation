{
 "cells": [
  {
   "cell_type": "markdown",
   "id": "35b36f52-0360-44f5-a653-79c78bd97ac6",
   "metadata": {
    "jp-MarkdownHeadingCollapsed": true,
    "tags": []
   },
   "source": [
    "# Contents\n",
    "[1. How to use this notebook](#overview)\n",
    "\n",
    "[2. What is functional annotation?](#en_pipeline)\n",
    "\n",
    "[3. Importing your data](#en_import)\n",
    "\n",
    "[4. Setting up your analysis environment](#en_env)\n",
    "\n",
    "[5. Gene ID conversion](#en_ID)\n",
    "\n",
    "[6. KEGG over-representation](#KEGG_or)\n",
    "\n",
    "[7. Plotting KEGG results](#KEGG_plot)\n",
    "\n",
    "[8. KEGG pathway maps](#KEGG_map)\n",
    "\n",
    "[9. GO over-representation](#GO_or)\n",
    "\n",
    "[10. Plotting GO results](#GO_plot)\n"
   ]
  },
  {
   "cell_type": "markdown",
   "id": "e48c4b62-52e2-458d-8e9a-4c2c4c534bf5",
   "metadata": {
    "tags": []
   },
   "source": [
    "# 1. How to use this notebook <a class=\"anchor\" id=\"overview\"></a>\n",
    "\n",
    "This is a [Jupyter notebook](https://jupyter.org/) for functional annotation and analysis of a set of genes. \n",
    "\n",
    "Jupyter notebooks are interactive documents that contain 'live code', which allows the user to complete an analysis by running code 'cells', which can be modified, updated or added to by the user.\n",
    "\n",
    "Individual Jupyter notebooks are based on a specific 'kernel', or analysis envirnment (mostly programming languages). This particular notebook is based on R. To see which version of R this notebook is based on, and as an example of running a code cell, click on the cell below and press the 'Run' button (top of the page)."
   ]
  },
  {
   "cell_type": "code",
   "execution_count": null,
   "id": "ba9ae1b0-71b1-4260-b873-758f1e183e48",
   "metadata": {
    "tags": []
   },
   "outputs": [],
   "source": [
    "R.Version()"
   ]
  },
  {
   "cell_type": "markdown",
   "id": "ae66be04-183c-47d9-85e9-489aec9c1716",
   "metadata": {
    "tags": []
   },
   "source": [
    "You should now see details about the version of R installed for this notebook. Every other code cell can be run similarly. There are two main types of code cells, plain R code (as seen above) and [markdown](https://www.rstudio.com/wp-content/uploads/2015/02/rmarkdown-cheatsheet.pdf). \n",
    "\n",
    "Markdown is a simple language for formatting text and the instructions (including this cell), headings, etc are written in markdown code cells. See: https://www.rstudio.com/wp-content/uploads/2015/02/rmarkdown-cheatsheet.pdf. You can add additional cells (markdown or R) by clicking on the plus sign, and then in the dropdown box, selecting 'Markdown' or 'code'. This way you can add your own analysis code cells or your own notes in markdown."
   ]
  },
  {
   "cell_type": "markdown",
   "id": "defbe24f-e6a8-4065-963f-4d8304a84721",
   "metadata": {},
   "source": [
    "*******************************************"
   ]
  },
  {
   "cell_type": "markdown",
   "id": "22e22907-9f35-432b-a678-1399dd108fab",
   "metadata": {},
   "source": [
    "# 2. What is functional enrichment? <a class=\"anchor\" id=\"en_pipeline\"></a>"
   ]
  },
  {
   "cell_type": "markdown",
   "id": "2ab90b2b-acd5-4f90-b882-8327ab4dab3c",
   "metadata": {},
   "source": [
    "Many types of genetic analysis will output a set of genes that are associated with a specific experimental condition. The classic example of this is RNA-Seq, which outputs a set of genes that are differentially expressed between experimental conditions. But micro RNA, epigenetics (e.g. differential methylation), variant calling and various other analysis types can also generate a set of condition-based genes.\n",
    "\n",
    "This Jupyter analysis workflow is designed so a researcher can input a set of genes from their analysis and use this to examine enrichment of these genes in [Kyoto Encyclopedia of Genes and Genomes (KEGG) pathways](https://www.genome.jp/kegg/) and [Gene Ontology (GO) terms](http://geneontology.org/).\n",
    "\n",
    "### KEGG\n",
    "\n",
    "[Kyoto Encyclopedia of Genes and Genomes (KEGG) database](https://www.genome.jp/kegg/)...\n",
    "\n",
    ">.. is a database resource for understanding high-level functions and utilities of the biological system, such as the cell, the organism and the ecosystem, from genomic and molecular-level information. It is a computer representation of the biological system, consisting of molecular building blocks of genes and proteins (genomic information) and chemical substances (chemical information) that are integrated with the knowledge on molecular wiring diagrams of interaction, reaction and relation networks (systems information). It also contains disease and drug information (health information) as perturbations to the biological system.\n",
    "\n",
    "![](https://www.genome.jp/kegg/docs/fig/kegg_overview.png)\n",
    "\n",
    "### GO\n",
    "\n",
    "[Gene Ontology (GO) database](http://geneontology.org/) ...\n",
    "\n",
    ">...provides a computational representation of our current scientific knowledge about the functions of genes (or, more properly, the protein and non-coding RNA molecules produced by genes) from many different organisms, from humans to bacteria. It is widely used to support scientific research, and has been cited in tens of thousands of publications.\n",
    "\n",
    "> Understanding gene function—how individual genes contribute to the biology of an organism at the molecular, cellular and organism levels—is one of the primary aims of biomedical research. Moreover, experimental knowledge obtained in one organism is often applicable to other organisms, particularly if the organisms share the relevant genes because they inherited them from their common ancestor.\n",
    "\n",
    ">Associations of gene products to GO terms are statements that describe\n",
    "\n",
    ">* Molecular Function: the molecular activities of individual gene products\n",
    ">* Cellular Component: where the gene products are active\n",
    ">* Biological Process: the pathways and larger processes to which that gene product’s activity contributes\n"
   ]
  },
  {
   "cell_type": "markdown",
   "id": "f7795e83-15eb-43b8-a13b-09147834b2f9",
   "metadata": {},
   "source": [
    "**NOTE TO RESEARCHERS REGARDING ENRICHMENT RESULTS. PLEASE READ.** \n",
    "\n",
    "Enrichment estimations of KEGG pathways and GO terms are based on an over-representation test, which compares the complete set genes within all KEGG pathways or GO terms to the set of genes that you provide as input (e.g. a set of differentially expressed genes). If some of the genes in your set of input genes are overrepresented in spefific pathways, this pathway is considered 'enriched'. But since this is ratio-based, a small number of input genes can result in false positives. \n",
    "\n",
    "For example, if you use 4 genes as input and 2 of these genes are found in a specific KEGG pathway, this may result in this pathway being defined as significantly enriched, even though this is likely to be a false positive due to a small sample size (where sample size = number of genes). In addition, a single genes can be found in multiple pathways, thus having a small set of DE genes amplifies the chance of getting these false positives. \n",
    "\n",
    "**Always take into account the counts per pathway, gene ratio per pathway, total number of input genes. If there are a low number of gene counts in a pathway (e.g. < 5) and/or few genes used as input (e.g. < 20), then you may have false positive results.** Use your own judgement here. Talk to a bioinformatician if you want assistance in the interpratation of the results.\n",
    "\n",
    "Also be aware that low numbers of DE genes or low gene counts per pathway will results in some strange looking barplots, dot plots, etc."
   ]
  },
  {
   "cell_type": "markdown",
   "id": "f0905dd0-eb4d-4e74-abba-2d58df581ad3",
   "metadata": {},
   "source": [
    "### R packages"
   ]
  },
  {
   "cell_type": "markdown",
   "id": "8d5ad588-68ae-44f8-a227-6a81d5120d21",
   "metadata": {},
   "source": [
    "A variety of R packages are used in this analysis workflow. You should cite these in any manuscripts that you write based on the results from this workflow.\n",
    "\n",
    "Functional enrichment for KEGG pathways and GO terms was completed using the package [clusterProfiler](https://bioconductor.org/packages/release/bioc/html/clusterProfiler.html). You can read how to use clusterProfiler here: https://yulab-smu.top/biomedical-knowledge-mining-book/index.html\n",
    "\n",
    "Annotated KEGG pathway maps are generated using the package [pathview](https://www.bioconductor.org/packages/release/bioc/html/pathview.html).\n",
    "\n",
    "Annotation of primary gene IDs (e.g. gene symbol) to other gene identifiers (e.g. Entrez gene ID, Ensembl gene ID, description, etc) was completed using the [AnnotationHub package](https://bioconductor.org/packages/release/bioc/html/AnnotationHub.html)."
   ]
  },
  {
   "cell_type": "markdown",
   "id": "02cf908f-54c0-4810-9c2b-6d9b3fca38a9",
   "metadata": {},
   "source": [
    "*************************************************************"
   ]
  },
  {
   "cell_type": "markdown",
   "id": "0564fd75-68a6-4692-9fb9-061b9879e115",
   "metadata": {},
   "source": [
    "# 3. Importing your data <a class=\"anchor\" id=\"en_import\"></a>"
   ]
  },
  {
   "cell_type": "markdown",
   "id": "22ee2d28-65ac-4edf-b52a-356dd50316a4",
   "metadata": {},
   "source": [
    "Your data needs to be in a specific format and structure, so the R code in this workflow can identify and pull out the correct information."
   ]
  },
  {
   "cell_type": "markdown",
   "id": "9c774e55-5450-4d85-89e2-26d3cf055bae",
   "metadata": {},
   "source": [
    "1. Open Excel. Copy your **set of genes into column A** (e.g. a set of differentially expressed genes). This is technically all the information you need to identify enriched pathways. If you want to do some additional analysis (recommended) then you should add any **numeric data you have for your genes into column B** (e.g. log fold change scores) **and p values (or adjusted p values) to column C**. There should be no column headers. Save this file and call it \"genes.xlsx\" (note: R is case-sensitive, so name it exactly this, i.e. no capitals).\n",
    "\n",
    "2. Copy this file to Jupyter. In the left hand panel you should see the 'File Browser' panel (or click on the 'File Browser' icon if it's not visible). You should see the 'Functional_annotation.ipynb' file here (i.e. this notebook).  Drag and drop the Excel file you created to the contents here.\n",
    "\n",
    "**NOTE: There is a 'genes.xlsx' file here already, that contains a list of example genes. You can overwrite this with your own genes file, or continue to use the example data.**"
   ]
  },
  {
   "cell_type": "markdown",
   "id": "15e49846-a908-46d2-8819-2103f573dc3f",
   "metadata": {},
   "source": [
    "*********************************************"
   ]
  },
  {
   "cell_type": "markdown",
   "id": "3e3efe31-7757-4066-8f3d-81b78d8d3cca",
   "metadata": {},
   "source": [
    "# 4. Setting up your analysis environment <a class=\"anchor\" id=\"en_env\"></a>"
   ]
  },
  {
   "cell_type": "markdown",
   "id": "3f1b5b17-7902-4395-aa32-2a022f626dd3",
   "metadata": {},
   "source": [
    "Before you can begin your analysis you need to set up certain requirements, such as setting your working directory and installing/loading required R packges."
   ]
  },
  {
   "cell_type": "markdown",
   "id": "c3ec7d82-fa38-4461-ba9e-429214896fb6",
   "metadata": {},
   "source": [
    "### Check your working directory"
   ]
  },
  {
   "cell_type": "markdown",
   "id": "e7af73a1-0f6a-4a5a-bb37-1da7c24e48eb",
   "metadata": {},
   "source": [
    "Your [working directory](https://r-coder.com/working-directory-r/) in R is a base directory where R looks for your data files (and outputs files to). Normally you'd need to set your working directory in R using the `setwd()` function. Here the working directory is where your Jupyter Notebook was downloaded to."
   ]
  },
  {
   "cell_type": "markdown",
   "id": "db119dc2-dfd0-409f-83ba-942037b1b199",
   "metadata": {},
   "source": [
    "You can see what working directory you're currently in using the getwd() function:"
   ]
  },
  {
   "cell_type": "code",
   "execution_count": null,
   "id": "025e09dc-b40b-456c-9875-b90b276ddc83",
   "metadata": {},
   "outputs": [],
   "source": [
    "getwd()"
   ]
  },
  {
   "cell_type": "markdown",
   "id": "59ee54a6-c003-4fad-ac88-9c8d501ba972",
   "metadata": {},
   "source": [
    "Now you can see what is in this directory by running the dir function. Your Excel file should be here. i.e., if you're in the correct directory you should see your 'genes.xlsx' file and the Notebook (Functional_annotation.ipynb):"
   ]
  },
  {
   "cell_type": "code",
   "execution_count": null,
   "id": "a0beb07d-1aa5-4a65-b552-b84b89ecb3f0",
   "metadata": {},
   "outputs": [],
   "source": [
    "dir()"
   ]
  },
  {
   "cell_type": "markdown",
   "id": "275846ec-0b6e-48e8-bb67-4b4f222affa7",
   "metadata": {},
   "source": [
    "### Install the required R packages"
   ]
  },
  {
   "cell_type": "markdown",
   "id": "104475f1-b3dd-4800-bbe2-51acf22f1483",
   "metadata": {},
   "source": [
    "R does most of its analysis using [functions](https://www.tutorialspoint.com/r/r_functions.htm). Some of these are built into base R, but many come as external [packages](https://r-pkgs.org/intro.html), which need to be installed and loaded into R."
   ]
  },
  {
   "cell_type": "markdown",
   "id": "091d953d-1051-4eb7-a2c1-34f543c9bf2c",
   "metadata": {},
   "source": [
    "Packages are first installed in R using the `install.packages()` function and then loaded for use with the [library()](https://www.tutorialspoint.com/r/r_packages.htm) function:"
   ]
  },
  {
   "cell_type": "code",
   "execution_count": null,
   "id": "498aa50c-ce08-4a1b-998d-92e6f5404653",
   "metadata": {},
   "outputs": [],
   "source": [
    "install.packages(\"tidyverse\")"
   ]
  },
  {
   "cell_type": "code",
   "execution_count": null,
   "id": "efd123b0-d3af-447a-bcbd-9777d64411f3",
   "metadata": {},
   "outputs": [],
   "source": [
    "library(tidyverse, quietly = TRUE)"
   ]
  },
  {
   "cell_type": "code",
   "execution_count": null,
   "id": "57dca892-52a0-49cf-8e9b-1811c1382aaf",
   "metadata": {},
   "outputs": [],
   "source": [
    "install.packages(\"readxl\")"
   ]
  },
  {
   "cell_type": "code",
   "execution_count": null,
   "id": "d178f4d8-bfaa-4aee-bcb6-e39dd50f7721",
   "metadata": {},
   "outputs": [],
   "source": [
    "library(readxl, quietly = TRUE)"
   ]
  },
  {
   "cell_type": "code",
   "execution_count": null,
   "id": "e107c019-50fc-428d-b2a8-703860472c30",
   "metadata": {},
   "outputs": [],
   "source": [
    "install.packages(\"scales\")"
   ]
  },
  {
   "cell_type": "code",
   "execution_count": null,
   "id": "edbf7cae-72c4-4830-b707-f0f97d011649",
   "metadata": {},
   "outputs": [],
   "source": [
    "library(scales, quietly = TRUE)"
   ]
  },
  {
   "cell_type": "markdown",
   "id": "4d65d796-9076-4300-abc4-14d29fc73260",
   "metadata": {},
   "source": [
    "Other packages need to be installed first."
   ]
  },
  {
   "cell_type": "markdown",
   "id": "e5e93e2f-6027-45d3-9ba9-79e82fdf4b06",
   "metadata": {},
   "source": [
    "The key R analysis package used is clusterProfiler (['A universal enrichment tool for interpreting omics data'](https://bioconductor.org/packages/release/bioc/html/clusterProfiler.html)). This package has multiple dependencies, so may take several minutes to install."
   ]
  },
  {
   "cell_type": "code",
   "execution_count": null,
   "id": "d3389f9a-8378-4159-b373-f0937120cee9",
   "metadata": {},
   "outputs": [],
   "source": [
    "install.packages(\"BiocManager\", quietly = TRUE)"
   ]
  },
  {
   "cell_type": "code",
   "execution_count": null,
   "id": "477b43fd-97a6-44d4-9999-6bfb8c143c26",
   "metadata": {},
   "outputs": [],
   "source": [
    "BiocManager::install(\"clusterProfiler\", quietly = TRUE)"
   ]
  },
  {
   "cell_type": "code",
   "execution_count": null,
   "id": "0933661c-3053-49af-90cd-b0c0dd259b3c",
   "metadata": {},
   "outputs": [],
   "source": [
    "library(clusterProfiler, quietly = TRUE)"
   ]
  },
  {
   "cell_type": "code",
   "execution_count": null,
   "id": "5657d503-55e2-4246-afbe-6194cfc7947d",
   "metadata": {},
   "outputs": [],
   "source": [
    "BiocManager::install(\"pathview\", quietly = TRUE)"
   ]
  },
  {
   "cell_type": "code",
   "execution_count": null,
   "id": "857541d5-4bbe-44f1-b78c-b63f34789108",
   "metadata": {},
   "outputs": [],
   "source": [
    "library(pathview, quietly = TRUE)"
   ]
  },
  {
   "cell_type": "code",
   "execution_count": null,
   "id": "563d89e2-f441-4e6a-9f1c-04b2b555bdb5",
   "metadata": {},
   "outputs": [],
   "source": [
    "BiocManager::install(\"AnnotationHub\", quietly = TRUE)"
   ]
  },
  {
   "cell_type": "code",
   "execution_count": null,
   "id": "58b0e41e-3325-4502-9913-72736b8c3ca8",
   "metadata": {},
   "outputs": [],
   "source": [
    "library(AnnotationHub, quietly = TRUE)"
   ]
  },
  {
   "cell_type": "code",
   "execution_count": null,
   "id": "143d2b7e-aeb1-4121-ae29-b11398602ac2",
   "metadata": {},
   "outputs": [],
   "source": [
    "if (!require(\"BiocManager\", quietly = TRUE))\n",
    "    install.packages(\"BiocManager\")\n",
    "\n",
    "BiocManager::install(c(\"clusterProfiler\", \"pathview\"), quietly = TRUE)\n",
    "library(clusterProfiler, quietly = TRUE)\n",
    "library(pathview, quietly = TRUE)"
   ]
  },
  {
   "cell_type": "markdown",
   "id": "269de177-711d-48e3-af4b-e125b8c7127e",
   "metadata": {},
   "source": [
    "### Choose your species"
   ]
  },
  {
   "cell_type": "markdown",
   "id": "7f6d8ff9-f444-4539-ba8e-fc576633f065",
   "metadata": {},
   "source": [
    "To run the enrichment analysis, you need to download the genome annotation database for your species."
   ]
  },
  {
   "cell_type": "markdown",
   "id": "81925ded-e9b0-4803-8cbd-609092c5eadf",
   "metadata": {},
   "source": [
    "To do this, install the genome wide annotation package for your species (model organisms only). The list of species is here: https://bioconductor.org/packages/3.15/data/annotation/"
   ]
  },
  {
   "cell_type": "markdown",
   "id": "756dfb31-024f-4c3a-b190-85f235170595",
   "metadata": {},
   "source": [
    "Find your package name in the above link. E.g. for human data, search on that page for \"Genome wide annotation for Human\" and you'll see the package name is `\"org.Hs.eg.db\"`. Install this like so:"
   ]
  },
  {
   "cell_type": "code",
   "execution_count": null,
   "id": "2c72e670-cc8d-4066-b825-5083dd7e95ff",
   "metadata": {},
   "outputs": [],
   "source": [
    "BiocManager::install(\"org.Mm.eg.db\", quietly = TRUE)\n",
    "library(org.Mm.eg.db, quietly = TRUE)\n",
    "myspeciesdb <- org.Mm.eg.db"
   ]
  },
  {
   "cell_type": "markdown",
   "id": "ec25ba74-c0cb-4760-9634-bd2326fbda39",
   "metadata": {},
   "source": [
    "If your species isn't human, replace \"org.Hs.eg.db\" in the above code cell with your species package name and run the code cell. E.g. mouse is `\"org.Mm.eg.db\"`, zebrafish is `\"org.Dr.eg.db\"`, rat is `\"org.Rn.eg.db\"`, etc."
   ]
  },
  {
   "cell_type": "markdown",
   "id": "39554901-ca41-42d3-9792-17968f0198b6",
   "metadata": {},
   "source": [
    "You also need to define your species to match the correct KEGG database. The list of KEGG species is here: https://www.genome.jp/kegg/catalog/org_list.html. The first column is the KEGG species ID that you need. Run the following code cell to point to the human KEGG database."
   ]
  },
  {
   "cell_type": "markdown",
   "id": "ae3231ad-78ef-4648-a7a4-c81a41fded7f",
   "metadata": {},
   "source": [
    "As before, if your species isn't human, change this to your KEGG species ID and run the code cell. E.g. human is `\"hsa\"`, mouse is `\"mmu\"`, rat is `\"rno'` etc."
   ]
  },
  {
   "cell_type": "code",
   "execution_count": null,
   "id": "a52f0027-fe59-41fd-ad9c-ff47fd58125e",
   "metadata": {},
   "outputs": [],
   "source": [
    "my_species <- \"mmu\""
   ]
  },
  {
   "cell_type": "markdown",
   "id": "32bc4ebe-62fd-4b95-a100-c9ee5f624f31",
   "metadata": {},
   "source": [
    "### Other setup details"
   ]
  },
  {
   "cell_type": "markdown",
   "id": "491e4ec6-27ca-4cbd-9e82-c583adc56a72",
   "metadata": {},
   "source": [
    "Choose a treatment name. In many experiments you will have multiple treatments, thus multiple sets of genes you want to examine. By giving your experiment a name here, any output files and figures will use that name, so that you're not overwriting previous treatment files and figures. If you only have one set of genes you can run this as the default (`treatment <- \"single\"`) but if you have different treatments, change this to a suitable treatment name (e.g. `treatment <- \"highfat\"`)"
   ]
  },
  {
   "cell_type": "code",
   "execution_count": null,
   "id": "343c8a07-3db1-4525-8829-66755e176fe9",
   "metadata": {},
   "outputs": [],
   "source": [
    "treatment <- \"single\""
   ]
  },
  {
   "cell_type": "markdown",
   "id": "30d94cc3-714a-4ca9-b62c-32068f97b195",
   "metadata": {},
   "source": [
    "As a final optional setup for this notebook, you can set the default width and height for plots output here. You can modify the default width and height parameters here as you prefer."
   ]
  },
  {
   "cell_type": "code",
   "execution_count": null,
   "id": "1ee7d241-422e-4836-85ad-8a24a1e40395",
   "metadata": {},
   "outputs": [],
   "source": [
    "options(repr.plot.width=12, repr.plot.height=8)"
   ]
  },
  {
   "cell_type": "markdown",
   "id": "3a3cc30a-e794-462a-9e98-ebe7121548d7",
   "metadata": {},
   "source": [
    "**************************************"
   ]
  },
  {
   "cell_type": "markdown",
   "id": "98847d4c-f15b-48bc-a1ff-532ded9e461d",
   "metadata": {},
   "source": [
    "# 5. Gene ID conversion <a class=\"anchor\" id=\"en_ID\"></a>"
   ]
  },
  {
   "cell_type": "markdown",
   "id": "b87a6c06-e1c1-41d3-aa8d-e9f1fb764ac5",
   "metadata": {},
   "source": [
    "KEGG pathways are based on [Entrez gene IDs](https://www.ncbi.nlm.nih.gov/pmc/articles/PMC1761442/), NCBIs numeric gene identifiers. Therefore, to run this workflow you need to convert your input gene IDs (usually gene symbols, but sometimes Ensembl or other IDs) into Entrez IDs."
   ]
  },
  {
   "cell_type": "markdown",
   "id": "e2359a28-0888-4794-8195-b211adba50ac",
   "metadata": {},
   "source": [
    "First, read in the genes data you imported in section 3. "
   ]
  },
  {
   "cell_type": "code",
   "execution_count": null,
   "id": "034b6f85-ac25-457f-8de3-677c1ba3caea",
   "metadata": {
    "tags": []
   },
   "outputs": [],
   "source": [
    "dat <- readxl::read_xlsx(\"genes.xlsx\", col_names = F)"
   ]
  },
  {
   "cell_type": "markdown",
   "id": "9d8b575f-1a53-41cf-89c1-11e8ea6a8073",
   "metadata": {},
   "source": [
    "You can view the top 6 rows of your data like so:"
   ]
  },
  {
   "cell_type": "code",
   "execution_count": null,
   "id": "adc3715f-2b72-4f2a-b2db-1710971c52aa",
   "metadata": {},
   "outputs": [],
   "source": [
    "head(dat)"
   ]
  },
  {
   "cell_type": "markdown",
   "id": "3cde9ea9-92e7-4fe7-a89e-23c1525ad045",
   "metadata": {},
   "source": [
    "Now we can use the clusterProfiler `bitr` (**B**iological **I**d **TR**anslator) gene ID conversion function.\n",
    "\n",
    "`OrgDb=..` points to the species orgDB package you installed in the previous section (e.g. `org.Hs.eg.db`), which we renamed to 'myspeciesdb'.\n",
    "By default we're converting from gene symbol (`fromType=\"SYMBOL\"`) to Entrez ID (`toType=\"ENTREZID\"`). \n",
    "\n",
    "If you are starting with a different type of ID you can change the `fromType=` to your ID type. E.g. if you have a set of [Ensembl IDs](https://www.ebi.ac.uk/training/online/courses/ensembl-browsing-genomes/navigating-ensembl/investigating-a-gene/) you can change this to fromType=\"ENSEMBL\"."
   ]
  },
  {
   "cell_type": "code",
   "execution_count": null,
   "id": "2e49b2a4-21c2-4432-890c-601f72090e75",
   "metadata": {},
   "outputs": [],
   "source": [
    "gene_list <- bitr(gene = dat$`...1`, fromType=\"SYMBOL\", toType=\"ENTREZID\", OrgDb=myspeciesdb, drop=TRUE)"
   ]
  },
  {
   "cell_type": "markdown",
   "id": "8c74e7a9-a186-4589-88c6-6f7013d8f857",
   "metadata": {},
   "source": [
    "You can only convert from and to the keytypes (i.e. gene/protein IDs) that are available for your species OrgDb package. You can view what keytypes are available for your species like so:"
   ]
  },
  {
   "cell_type": "code",
   "execution_count": null,
   "id": "28c9f14c-5d89-44d7-bb10-e510d67b2205",
   "metadata": {},
   "outputs": [],
   "source": [
    "keytypes(myspeciesdb)"
   ]
  },
  {
   "cell_type": "markdown",
   "id": "f8df7bdb-9eac-44a6-9506-995b4b68567a",
   "metadata": {},
   "source": [
    "**NOTE:** Not all gene IDs have an exact 1:1 match. E.g. a gene symbol may match to more than one Entrez ID. In addition, some of the IDs may not match at all. The output messages from bitr will tell you how many of your IDs failed to match and if there was a 1:1 match between ID types. If few or no genes matched, your set of gene IDs may be formatted incorrecty, you've chosen the wrong species, or you're not selecting the correct ID type. \n",
    "\n",
    "You can see how many ID's you have like so:"
   ]
  },
  {
   "cell_type": "code",
   "execution_count": null,
   "id": "68a49033-e7d0-4868-afab-8e1354f484c9",
   "metadata": {},
   "outputs": [],
   "source": [
    "nrow(gene_list)"
   ]
  },
  {
   "cell_type": "markdown",
   "id": "482fe8d9-872b-4a2c-9592-922bb5b83d2b",
   "metadata": {},
   "source": [
    "Or you can see the first 6 genes like so:"
   ]
  },
  {
   "cell_type": "code",
   "execution_count": null,
   "id": "3d456a65-0f21-469b-929b-afd9cd006ae2",
   "metadata": {},
   "outputs": [],
   "source": [
    "head(gene_list)"
   ]
  },
  {
   "cell_type": "markdown",
   "id": "149a5ca5-8a11-4491-8efd-b622fa677f59",
   "metadata": {},
   "source": [
    "This set of Entrez gene IDs will be used as input for your enrichment analysis."
   ]
  },
  {
   "cell_type": "markdown",
   "id": "f1030631-4ba2-42e8-a5cb-4b190ad7c309",
   "metadata": {},
   "source": [
    "**********************"
   ]
  },
  {
   "cell_type": "markdown",
   "id": "fe14eb92-dddc-4b24-9cee-ae418e4113e7",
   "metadata": {
    "tags": []
   },
   "source": [
    "# 6. KEGG over-representation <a class=\"anchor\" id=\"KEGG_or\"></a>"
   ]
  },
  {
   "cell_type": "markdown",
   "id": "31a80158-85f8-46a0-971b-78abf561c0b3",
   "metadata": {},
   "source": [
    "Now we can run the clusterProfiler function `enrichKEGG` to match your set of Entrez IDs to the KEGG pathways for your species. \n",
    "\n",
    "You can adjust the `pvalueCutoff =` or `qvalueCutoff = 0.2` as needed. This will output only KEGG pathways that are *significantly* enriched, based on your p and q values. If you change these to 1 then this will output every KEGG pathway that contains any of your input Entrez gene IDs. You may prefer to run the fucntion this way first, then filter by q and p value later."
   ]
  },
  {
   "cell_type": "code",
   "execution_count": null,
   "id": "1124efba-ccf6-447c-bcf4-6750c3768b28",
   "metadata": {},
   "outputs": [],
   "source": [
    "kk <- enrichKEGG(gene = gene_list$ENTREZID, organism = my_species, pvalueCutoff = 0.05, qvalueCutoff = 0.2)"
   ]
  },
  {
   "cell_type": "markdown",
   "id": "7ea7d730-6a96-4178-b9ea-75775e3cdc51",
   "metadata": {},
   "source": [
    "You can view a table of results like so:"
   ]
  },
  {
   "cell_type": "code",
   "execution_count": null,
   "id": "e9d68f18-fcca-4bdc-a223-db8acbb4d21b",
   "metadata": {},
   "outputs": [],
   "source": [
    "as.data.frame(kk)"
   ]
  },
  {
   "cell_type": "markdown",
   "id": "9ee859f9-d857-4db8-9ef6-f3297831d1d0",
   "metadata": {},
   "source": [
    "The **ID** column is the KEGG pathway ID. The **GeneRatio** and **BgRatio** (background ratio) are the scores used to determine if a pathway is enriched (by overrepresentation). The **geneID** column lists the genes from your set of input genes that are found in that pathway. These are Entrez IDs. And the **Count** column is the number of genes from your set of input genes that are found in that pathway."
   ]
  },
  {
   "cell_type": "markdown",
   "id": "9b14b454-af7a-4af2-89d2-d9a50eb25b44",
   "metadata": {},
   "source": [
    "You can output this table as a comma separated file (can be opened in Excel or any text editor/viewer) like so:"
   ]
  },
  {
   "cell_type": "code",
   "execution_count": null,
   "id": "ac08e9ad-d861-464c-8c84-4f5960591f34",
   "metadata": {},
   "outputs": [],
   "source": [
    "write.csv(as.data.frame(kk), paste0(treatment, \"_KEGG_pathways.csv\"))"
   ]
  },
  {
   "cell_type": "markdown",
   "id": "380e469a-c345-4da8-a44f-573b2bb32906",
   "metadata": {},
   "source": [
    "The CSV file will appear in your working directory (the 'enrichment' directory you created earlier) and can be opened in Jupyter by double clicking on it in the left-hand 'File Browser' panel). You can also right click on the file to download it from the Jupyter server (or rename it or delete it, etc)."
   ]
  },
  {
   "cell_type": "markdown",
   "id": "687ec418-d301-4182-8c59-872fb375f76c",
   "metadata": {},
   "source": [
    "**********************"
   ]
  },
  {
   "cell_type": "markdown",
   "id": "7993bf85-367a-4555-9397-ce953b0eaa63",
   "metadata": {
    "tags": []
   },
   "source": [
    "# 7. Plotting KEGG results <a class=\"anchor\" id=\"KEGG_plot\"></a>"
   ]
  },
  {
   "cell_type": "markdown",
   "id": "54213e1f-70c9-4ed1-aaae-ead119ed8751",
   "metadata": {},
   "source": [
    "clusterProfiler comes with a variety of built-in plotting functions. We'll use some of these and some custom plots to visualise the KEGG results."
   ]
  },
  {
   "cell_type": "markdown",
   "id": "4b45b4e1-2d08-4560-954c-c4ab050b2497",
   "metadata": {},
   "source": [
    "### Bar plot"
   ]
  },
  {
   "cell_type": "markdown",
   "id": "ca07fa69-6899-49f8-a057-4cd18e6770be",
   "metadata": {},
   "source": [
    "First we'll create a bar plot. This shows the pathway names on the Y axis, the X axis shows the number of your input genes ('count') found in each pathway, with bars coloured by adjusted p value.\n",
    "\n",
    "By default the top 8 pathways, by adjusted p value, are shown (`showCategory = 8`), but you can change this to more or fewer pathways. You can also increase or decrease the font size."
   ]
  },
  {
   "cell_type": "code",
   "execution_count": null,
   "id": "c2982c9c-8404-4f7f-ae5e-86e42c6b44de",
   "metadata": {},
   "outputs": [],
   "source": [
    "p <- barplot(kk, showCategory = 14, font.size = 14)\n",
    "p"
   ]
  },
  {
   "cell_type": "markdown",
   "id": "ee75ce66-1c85-4ca1-8350-45447907f132",
   "metadata": {},
   "source": [
    "Now you can save the above plot as a 300dpi (i.e. publication quality) tiff or pdf file. **These files can be found in your working directory.**\n",
    "\n",
    "**Tip:** you can adjust the width and height of the saved images by changing `width =` and `height =` in the code below. Pdf files can be opened within Jupyter, so a good way to test a suitable width/height would be to save the image by running the pdf code below with the default 20cm width/height, then open the pdf file by clicking on it in the file browser panel (left-hand panel), then change the width/height and repeat this process as needed."
   ]
  },
  {
   "cell_type": "markdown",
   "id": "ab72e923-a600-4130-9f5d-1dfa79f1b30a",
   "metadata": {},
   "source": [
    "Export as a 300dpi tiff"
   ]
  },
  {
   "cell_type": "code",
   "execution_count": null,
   "id": "4ace8b66-10a5-47e8-bab7-cf46d66d76e5",
   "metadata": {},
   "outputs": [],
   "source": [
    "tiff_exp <- paste0(treatment, \"_KEGG_bar.tiff\")\n",
    "ggsave(file = tiff_exp, dpi = 300, compression = \"lzw\", device = \"tiff\", plot = p, width = 20, height = 20, units = \"cm\")"
   ]
  },
  {
   "cell_type": "markdown",
   "id": "c5c063ca-85dc-4848-bdca-07510ef132ff",
   "metadata": {},
   "source": [
    "Export as a pdf"
   ]
  },
  {
   "cell_type": "code",
   "execution_count": null,
   "id": "e51bad69-01b7-4de1-ad8c-861c3ed37920",
   "metadata": {},
   "outputs": [],
   "source": [
    "pdf_exp <- paste0(treatment, \"_KEGG_bar.pdf\")\n",
    "ggsave(file = pdf_exp, device = \"pdf\", plot = p, width = 20, height = 20, units = \"cm\")"
   ]
  },
  {
   "cell_type": "markdown",
   "id": "11cd0f19-d5af-44c4-85bd-d93bd8c28f55",
   "metadata": {},
   "source": [
    "### Dot plot"
   ]
  },
  {
   "cell_type": "markdown",
   "id": "6759a690-0028-4dcf-abdd-1051590f7e46",
   "metadata": {},
   "source": [
    "Now we'll create a dot plot. This plots the same data as the bar plot, but also includes gene ratio information (x axis). The pathway names are again on the Y axis, the size of the dots represents the number of your input genes ('count') found in each pathway, and dots coloured by adjusted p value.\n",
    "\n",
    "As with the bar plot, you can adjust the number of pathways shown (`showCategory = ..`) and increase or decrease the font size. Note that the bar plot is ordered by adjusted p value but the dot plot is ordered by gene count, so the pathway order will differ in each plot."
   ]
  },
  {
   "cell_type": "code",
   "execution_count": null,
   "id": "78b59d83-9f29-439d-a11d-675b96a47d7c",
   "metadata": {},
   "outputs": [],
   "source": [
    "p <- dotplot(kk, showCategory = 8, font.size = 14)\n",
    "p"
   ]
  },
  {
   "cell_type": "markdown",
   "id": "21fa16cb-070b-4734-b8f2-58980dd1a56d",
   "metadata": {},
   "source": [
    "Again, you can export these as a tiff or pdf file."
   ]
  },
  {
   "cell_type": "markdown",
   "id": "b90f243b-7de4-4e47-90fb-8ab5cd7dd816",
   "metadata": {},
   "source": [
    "Export as a 300dpi tiff"
   ]
  },
  {
   "cell_type": "code",
   "execution_count": null,
   "id": "df8938db-9975-4e18-885c-01d9b5c8ca10",
   "metadata": {},
   "outputs": [],
   "source": [
    "tiff_exp <- paste0(treatment, \"_KEGG_dot.tiff\")\n",
    "ggsave(file = tiff_exp, dpi = 300, compression = \"lzw\", device = \"tiff\", plot = p, width = 20, height = 20, units = \"cm\")"
   ]
  },
  {
   "cell_type": "markdown",
   "id": "479940d4-d0b7-4b0b-80f8-5e55e078d563",
   "metadata": {},
   "source": [
    "Export as a pdf"
   ]
  },
  {
   "cell_type": "code",
   "execution_count": null,
   "id": "8c228e95-d7d6-4e4f-a3e8-bd5b10621c04",
   "metadata": {},
   "outputs": [],
   "source": [
    "pdf_exp <- paste0(treatment, \"_KEGG_dot.pdf\")\n",
    "ggsave(file = pdf_exp, device = \"pdf\", plot = p, width = 20, height = 20, units = \"cm\")"
   ]
  },
  {
   "cell_type": "markdown",
   "id": "91449373-3b59-4e45-8b95-c7921125df86",
   "metadata": {},
   "source": [
    "### Network plot"
   ]
  },
  {
   "cell_type": "markdown",
   "id": "b538e570-85b8-42e1-b700-a7682f414b67",
   "metadata": {},
   "source": [
    "This plot shows a network of KEGG pathways - i.e. how pathways are connected based on which genes (from your input gene set) are shared between them.\n",
    "\n",
    "There are several parameters you can modify here:\n",
    "\n",
    "`showCategory = 8` change this to show more or fewer pathways, based on lowest ajusted p values.\n",
    "\n",
    "`colorEdge = TRUE` will show different colour gene connection lines per pathway. You can change this to `FALSE` if you don't want different colours.\n",
    "\n",
    "`node_label = \"category\"` will label just the pathways. If you change this to `node_label = \"all\"`, the genes will also be labelled (by Entrez gene ID)."
   ]
  },
  {
   "cell_type": "code",
   "execution_count": null,
   "id": "d4c596f7-31da-455e-a89f-cc318c526e72",
   "metadata": {},
   "outputs": [],
   "source": [
    "p <- cnetplot(kk, showCategory = 8, colorEdge = TRUE, node_label = \"category\")\n",
    "p"
   ]
  },
  {
   "cell_type": "markdown",
   "id": "77d2552b-93d6-4143-a87f-496711e08ec6",
   "metadata": {},
   "source": [
    "You can also colour the genes using numeric data, such as log fold change. **This requires that you have provided numeric data in your original input dataset (see section 3). If you only provided a column of gene IDs then you can't generate the following plot and will have to use the above plot instead.**"
   ]
  },
  {
   "cell_type": "markdown",
   "id": "ca7482a7-d180-441a-98e0-af4eb3bf08be",
   "metadata": {},
   "source": [
    "To colour the genes you need to first match Entrez gene IDs to the numeric data you provided (e.g. log fold change) and then use this to create a named vector:"
   ]
  },
  {
   "cell_type": "code",
   "execution_count": null,
   "id": "c4aa8a77-dfb2-46ea-a6fc-04ed39cbdcb9",
   "metadata": {},
   "outputs": [],
   "source": [
    "gene_list_lfc <- merge(gene_list, dat, by.x = \"SYMBOL\", by.y = \"...1\", sort = F)\n",
    "lfc2 <- gene_list_lfc$`...2`\n",
    "names(lfc2) <- gene_list_lfc$ENTREZID"
   ]
  },
  {
   "cell_type": "markdown",
   "id": "3e1582c8-ded6-4c40-834f-fab2b49ca139",
   "metadata": {},
   "source": [
    "Then run the cnetplot() function again, adding the numeric data (`foldChange = lfc2`)"
   ]
  },
  {
   "cell_type": "code",
   "execution_count": null,
   "id": "94bd4444-09c0-4bda-baa2-8712a76e24f9",
   "metadata": {},
   "outputs": [],
   "source": [
    "p <- cnetplot(kk, showCategory = 8, colorEdge = TRUE, node_label = \"category\", foldChange = lfc2)\n",
    "p"
   ]
  },
  {
   "cell_type": "markdown",
   "id": "c327ec90-b85a-49aa-9eff-1770677cb7af",
   "metadata": {},
   "source": [
    "Export as a 300dpi tiff"
   ]
  },
  {
   "cell_type": "code",
   "execution_count": null,
   "id": "8b11df38-c3fb-4e18-ad9c-cc3a04e7ab8b",
   "metadata": {},
   "outputs": [],
   "source": [
    "tiff_exp <- paste0(treatment, \"_KEGG_network.tiff\")\n",
    "ggsave(file = tiff_exp, dpi = 300, compression = \"lzw\", device = \"tiff\", plot = p, width = 20, height = 20, units = \"cm\")"
   ]
  },
  {
   "cell_type": "markdown",
   "id": "e2e9bd55-8316-44c3-b765-1faa12e848c0",
   "metadata": {},
   "source": [
    "Export as a pdf"
   ]
  },
  {
   "cell_type": "code",
   "execution_count": null,
   "id": "e9c9df87-4503-4ea1-9aaf-f6f49cedfd9b",
   "metadata": {},
   "outputs": [],
   "source": [
    "pdf_exp <- paste0(treatment, \"_KEGG_network.pdf\")\n",
    "ggsave(file = pdf_exp, device = \"pdf\", plot = p, width = 20, height = 20, units = \"cm\")"
   ]
  },
  {
   "cell_type": "markdown",
   "id": "19c4d100-0b34-4164-ac9a-5f0c63bcdd51",
   "metadata": {},
   "source": [
    "**********************************"
   ]
  },
  {
   "cell_type": "markdown",
   "id": "113b3f9a-bb28-4887-9272-82abe2bc1eb4",
   "metadata": {},
   "source": [
    "# 8. KEGG pathway maps <a class=\"anchor\" id=\"KEGG_map\"></a>"
   ]
  },
  {
   "cell_type": "markdown",
   "id": "532c2561-4072-491a-b8dd-b7f6e48af8a2",
   "metadata": {},
   "source": [
    "The package [pathview](https://www.bioconductor.org/packages/release/bioc/html/pathview.html) can pull down KEGG pathway maps from the KEGG database and annotate these with your input genes. It shades the genes by colour and intensity (e.g. using log fold change data, upregulated genes can be coloured green and downregulated coloured red)."
   ]
  },
  {
   "cell_type": "markdown",
   "id": "fe063a65-fe0d-42bd-b479-6b09d5fa8fde",
   "metadata": {},
   "source": [
    "**Note: this analysis needs numeric data, such as log fold change data, to work. If you only provided a set of gene IDs, with no numeric data (see section 3: Importing your data) then you will have to skip this section.**"
   ]
  },
  {
   "cell_type": "markdown",
   "id": "2aa35600-2161-4c3c-bdb7-c90db7e75257",
   "metadata": {},
   "source": [
    "pathview requires a named vector as input, so we first will pull out your numeric data (e.g. log fold change data) and name this using your gene IDs."
   ]
  },
  {
   "cell_type": "code",
   "execution_count": null,
   "id": "0d245360-1cc1-4056-81e2-4f8090a5868b",
   "metadata": {},
   "outputs": [],
   "source": [
    "lfc <- dat$`...2`\n",
    "names(lfc) <- dat$`...1`"
   ]
  },
  {
   "cell_type": "markdown",
   "id": "e19a1a2d-9973-4690-ac0e-d4033be03bb3",
   "metadata": {},
   "source": [
    "Then you need to select the pathway you want to annotate. Choose from one of the significantly enriched pathways identified in section 6. To view these:"
   ]
  },
  {
   "cell_type": "code",
   "execution_count": null,
   "id": "d220720f-d4dd-4491-ab3c-c228d250bfeb",
   "metadata": {},
   "outputs": [],
   "source": [
    "as.data.frame(kk)$ID"
   ]
  },
  {
   "cell_type": "markdown",
   "id": "e0acbfef-bb11-41c6-a0fa-67f1a26100a0",
   "metadata": {},
   "source": [
    "Enter one of these in the code cell below. You can change and re-run this and then the pathview code cell multiple times, to generate an annotated pathway map for each of your enriched KEGG pathways."
   ]
  },
  {
   "cell_type": "code",
   "execution_count": null,
   "id": "21dea60d-bc69-418d-97f4-997ca0c0ce9a",
   "metadata": {},
   "outputs": [],
   "source": [
    "keggpath <- \"hsa04060\""
   ]
  },
  {
   "cell_type": "markdown",
   "id": "39cbcd7f-bb7c-45d8-8715-85c01b8461c7",
   "metadata": {},
   "source": [
    "Now run the pathview function to generate the pathway map. This will be output in your working directory. Double click to view it or right click to download."
   ]
  },
  {
   "cell_type": "code",
   "execution_count": null,
   "id": "8aaa3cd3-b387-4ff3-aebb-2c8034b2cde8",
   "metadata": {},
   "outputs": [],
   "source": [
    "pview <- pathview(gene.data  = lfc,\n",
    "                     pathway.id = keggpath,\n",
    "                     species    = my_species,\n",
    "                     gene.idtype = \"SYMBOL\",\n",
    "                     low = list(gene = \"red\"),\n",
    "                     mid = list(gene = \"gray\"),\n",
    "                     high = list(gene = \"green\"),\n",
    "                     out.suffix = treatment,\n",
    "                     limit = list(gene=max(abs(lfc)), cpd=1))"
   ]
  },
  {
   "cell_type": "markdown",
   "id": "1d600257-d82a-4d9f-bdd6-1de22d98f395",
   "metadata": {},
   "source": [
    "**Note:** The above pathview command is optimised for differential expression data and thus colours pathway genes by log fold change, with upregulated genes being green and downregulated being red. If you have different numeric data you may want to modify the colour paremeters (`low = `, `mid = `, `high = `) to create a more suitable colour range. \n",
    "\n",
    "In addition, the command assumes you have gene symbol data as input. If you are using different gene IDs (Entrez, Ensembl, etc) then you need to change `gene.idtype = \"..\"` to your ID type. To see which ID types pathview can use as input, run the following code cell:"
   ]
  },
  {
   "cell_type": "code",
   "execution_count": null,
   "id": "54cac52a-5fb6-47b4-ae64-0eabd2e64f28",
   "metadata": {},
   "outputs": [],
   "source": [
    "data(gene.idtype.list)\n",
    "gene.idtype.list"
   ]
  },
  {
   "cell_type": "markdown",
   "id": "cbec83b0-bd85-4ee0-a5b5-f0be96a6f3c1",
   "metadata": {},
   "source": [
    "**********************************"
   ]
  },
  {
   "cell_type": "markdown",
   "id": "cce2d063-9c37-4e6e-b7cf-50ea74da7f9e",
   "metadata": {},
   "source": [
    "# 9. GO over-representation <a class=\"anchor\" id=\"GO_or\"></a>"
   ]
  },
  {
   "cell_type": "markdown",
   "id": "c3fceca0-227b-4ca9-8f05-cd8cb528b150",
   "metadata": {},
   "source": [
    "GO term overrepresetation is very similar to KEGG, in terms of statistical analysis (i.e. using a hypergeometric test) and plotting. The main difference is that GO terms are hierarchical and are separated by three top-level terms: **Biological Processes**, **Molecular Functions**, and **Cellular Components**. This means your set of input genes needs to be run 3 times, once for each top level term."
   ]
  },
  {
   "cell_type": "markdown",
   "id": "02f4eca2-1909-4338-8f8e-fb80aa42deb2",
   "metadata": {},
   "source": [
    "Fist select which of the top level terms you want to examine. You can run the analysis for each top-level term by changing this to another term then re-running this code cell and then the following GO code cells. The three terms are `\"BP\"`, `\"MF\"`, and `\"CC\"`."
   ]
  },
  {
   "cell_type": "code",
   "execution_count": null,
   "id": "79f048f5-8811-4dd9-8564-ddecdf55179a",
   "metadata": {},
   "outputs": [],
   "source": [
    "ont <- \"BP\""
   ]
  },
  {
   "cell_type": "markdown",
   "id": "5e0a0840-f5ca-4ab0-a020-6c5c47c8bc5f",
   "metadata": {},
   "source": [
    "Then run the enrichGO function. Where enrichKEGG matched to the KEGG species ID, enrichGO matches to your species OrgDb that you imported in section 4 (that we renamed to 'myspeciesdb')."
   ]
  },
  {
   "cell_type": "code",
   "execution_count": null,
   "id": "95c71414-1b67-4d53-af1e-0345dc25768f",
   "metadata": {},
   "outputs": [],
   "source": [
    "gg <- enrichGO(gene = as.character(gene_list$ENTREZID), OrgDb = myspeciesdb, ont = ont, pvalueCutoff = 0.05, qvalueCutoff = 0.2)"
   ]
  },
  {
   "cell_type": "markdown",
   "id": "5caf5c3a-5d10-457a-9e9f-6bd05851ff6e",
   "metadata": {},
   "source": [
    "You can view a table of results like so:"
   ]
  },
  {
   "cell_type": "code",
   "execution_count": null,
   "id": "b35083b6-9d01-42d5-9b0a-230909ed52aa",
   "metadata": {},
   "outputs": [],
   "source": [
    "as.data.frame(gg)"
   ]
  },
  {
   "cell_type": "markdown",
   "id": "4097a387-b26e-477e-a23d-890fa977e1c1",
   "metadata": {},
   "source": [
    "You can output this table as a comma separated file (can be opened in Excel or any text editor/viewer) like so:"
   ]
  },
  {
   "cell_type": "code",
   "execution_count": null,
   "id": "4f1722b7-7bcc-49e3-8846-66eb0cdc2dc2",
   "metadata": {},
   "outputs": [],
   "source": [
    "write.csv(as.data.frame(gg), paste0(treatment, \"_\", ont, \"_GO_terms.csv\"))"
   ]
  },
  {
   "cell_type": "markdown",
   "id": "669e3800-9a30-40f7-b2b7-32f6a784884d",
   "metadata": {},
   "source": [
    "**********************************"
   ]
  },
  {
   "cell_type": "markdown",
   "id": "54844c0c-a261-42e3-a051-df2e0d259806",
   "metadata": {},
   "source": [
    "# 10. Plotting GO results <a class=\"anchor\" id=\"GO_plot\"></a>"
   ]
  },
  {
   "cell_type": "markdown",
   "id": "99b7d35d-2055-4f85-a4f3-74f3a2b1ceb1",
   "metadata": {},
   "source": [
    "As with the KEGG results, you can plot a barplot, dot plot or network plot for GO terms. Alter the number of terms shown (`showCategory =`) and font size as you like. Make sure you run this section for each top level GO term."
   ]
  },
  {
   "cell_type": "markdown",
   "id": "bb1de8c7-7a96-43d0-a26b-dc01f1c5f6d7",
   "metadata": {},
   "source": [
    "**Bar plot**"
   ]
  },
  {
   "cell_type": "code",
   "execution_count": null,
   "id": "f6137d24-67fa-4a96-9784-81666fb12759",
   "metadata": {},
   "outputs": [],
   "source": [
    "p <- barplot(gg, showCategory = 14, font.size = 14)\n",
    "p"
   ]
  },
  {
   "cell_type": "markdown",
   "id": "927b3d10-121a-418c-8419-3df746a5c5a1",
   "metadata": {},
   "source": [
    "Export as a 300dpi tiff"
   ]
  },
  {
   "cell_type": "code",
   "execution_count": null,
   "id": "3a0f536a-536f-40be-bf30-cfe1313b3c12",
   "metadata": {},
   "outputs": [],
   "source": [
    "tiff_exp <- paste0(treatment, \"_\", ont, \"_GO_bar.tiff\")\n",
    "ggsave(file = tiff_exp, dpi = 300, compression = \"lzw\", device = \"tiff\", plot = p, width = 20, height = 20, units = \"cm\")"
   ]
  },
  {
   "cell_type": "markdown",
   "id": "3cd0cb7b-7bc1-4db1-bfab-a287e2c63bb4",
   "metadata": {},
   "source": [
    "Export as a pdf"
   ]
  },
  {
   "cell_type": "code",
   "execution_count": null,
   "id": "89109d79-c4a9-4d18-a726-db99b87d9061",
   "metadata": {},
   "outputs": [],
   "source": [
    "pdf_exp <- paste0(treatment, \"_\", ont, \"_GO_bar.pdf\")\n",
    "ggsave(file = pdf_exp, device = \"pdf\", plot = p, width = 20, height = 20, units = \"cm\")"
   ]
  },
  {
   "cell_type": "markdown",
   "id": "7d45188e-8a53-4c56-8878-91405e672fc4",
   "metadata": {},
   "source": [
    "**Dot plot**"
   ]
  },
  {
   "cell_type": "code",
   "execution_count": null,
   "id": "e6ee7872-32ff-43db-9174-524efd788fcb",
   "metadata": {},
   "outputs": [],
   "source": [
    "p <- dotplot(gg, showCategory = 8, font.size = 14)\n",
    "p"
   ]
  },
  {
   "cell_type": "markdown",
   "id": "f2dfd1e5-bcb2-4fe3-831f-1e8998ee725b",
   "metadata": {},
   "source": [
    "Export as a 300dpi tiff"
   ]
  },
  {
   "cell_type": "code",
   "execution_count": null,
   "id": "76e81bca-3a40-438d-8c34-d41e7bd043da",
   "metadata": {},
   "outputs": [],
   "source": [
    "tiff_exp <- paste0(treatment, \"_\", ont, \"_GO_dot.tiff\")\n",
    "ggsave(file = tiff_exp, dpi = 300, compression = \"lzw\", device = \"tiff\", plot = p, width = 20, height = 20, units = \"cm\")"
   ]
  },
  {
   "cell_type": "markdown",
   "id": "d9029fa8-77cb-4d71-aacf-816e2e4af938",
   "metadata": {},
   "source": [
    "Export as a pdf"
   ]
  },
  {
   "cell_type": "code",
   "execution_count": null,
   "id": "2157cd05-0e56-4c36-bee6-f17ce6217eef",
   "metadata": {},
   "outputs": [],
   "source": [
    "pdf_exp <- paste0(treatment, \"_\", ont, \"_GO_dot.pdf\")\n",
    "ggsave(file = pdf_exp, device = \"pdf\", plot = p, width = 20, height = 20, units = \"cm\")"
   ]
  },
  {
   "cell_type": "markdown",
   "id": "6d9b8e6a-d6b2-4ebd-a8f2-2e7a8609339f",
   "metadata": {},
   "source": [
    "**Network plot**"
   ]
  },
  {
   "cell_type": "code",
   "execution_count": null,
   "id": "f49d0e89-d1ed-4a97-a189-b67d647406a5",
   "metadata": {},
   "outputs": [],
   "source": [
    "p <- cnetplot(gg, showCategory = 8, colorEdge = TRUE, node_label = \"category\")\n",
    "p"
   ]
  },
  {
   "cell_type": "markdown",
   "id": "02356ae0-94a4-4954-afd1-9cdf9cc36627",
   "metadata": {},
   "source": [
    "As with the KEGG network plots, you can also colour the genes per GO term by the numerical data (e.g. log fold change) you provided. If you didn't provide numerical data, skip the following plot:"
   ]
  },
  {
   "cell_type": "code",
   "execution_count": null,
   "id": "4d216f67-c278-4755-a79d-c0a60f0c56dc",
   "metadata": {},
   "outputs": [],
   "source": [
    "p <- cnetplot(gg, showCategory = 8, colorEdge = TRUE, node_label = \"category\", foldChange = lfc2)\n",
    "p"
   ]
  },
  {
   "cell_type": "markdown",
   "id": "40e3579d-c37a-435f-87d3-03d57cdcc880",
   "metadata": {},
   "source": [
    "Export as a 300dpi tiff"
   ]
  },
  {
   "cell_type": "code",
   "execution_count": null,
   "id": "15d0af44-f86b-47aa-8606-4325f2d17a6e",
   "metadata": {},
   "outputs": [],
   "source": [
    "tiff_exp <- paste0(treatment, \"_\", ont, \"_GO_network.tiff\")\n",
    "ggsave(file = tiff_exp, dpi = 300, compression = \"lzw\", device = \"tiff\", plot = p, width = 20, height = 20, units = \"cm\")"
   ]
  },
  {
   "cell_type": "markdown",
   "id": "06d613cc-327c-49ec-9e2c-ae244b894986",
   "metadata": {},
   "source": [
    "Export as a pdf"
   ]
  },
  {
   "cell_type": "code",
   "execution_count": null,
   "id": "5d4785fe-b337-4f65-9bb7-93c8182b2758",
   "metadata": {},
   "outputs": [],
   "source": [
    "pdf_exp <- paste0(treatment, \"_\", ont, \"_GO_network.pdf\")\n",
    "ggsave(file = pdf_exp, device = \"pdf\", plot = p, width = 20, height = 20, units = \"cm\")"
   ]
  },
  {
   "cell_type": "markdown",
   "id": "3097bfd1-72fd-4018-beb7-3aa395099555",
   "metadata": {},
   "source": [
    "**Directed acyclic graph**"
   ]
  },
  {
   "cell_type": "markdown",
   "id": "d614b422-208a-48c9-bb8e-4dcdef38431e",
   "metadata": {},
   "source": [
    "As previously mentioned, GO terms are hierarchical, with individual terms being linked to parent or child levels. The previous plots combine all levels under each of three top level terms. The following plot allows a visualisation of how the enriched GO terms fit into the GO hierarchy."
   ]
  },
  {
   "cell_type": "code",
   "execution_count": null,
   "id": "50591ca5-80d9-4d3f-9fb7-59f30d3f8b6d",
   "metadata": {},
   "outputs": [],
   "source": [
    "p <- goplot(gg, showCategory = 30)\n",
    "p"
   ]
  },
  {
   "cell_type": "markdown",
   "id": "8b92d56b-d90f-406b-88d0-c8c38d796c3e",
   "metadata": {},
   "source": [
    "Export as a 300dpi tiff"
   ]
  },
  {
   "cell_type": "code",
   "execution_count": null,
   "id": "f98b8a0a-7045-4ab5-848f-33db53ec4430",
   "metadata": {},
   "outputs": [],
   "source": [
    "tiff_exp <- paste0(treatment, \"_\", ont, \"_GO_DAG.tiff\")\n",
    "ggsave(file = tiff_exp, dpi = 300, compression = \"lzw\", device = \"tiff\", plot = p, width = 20, height = 20, units = \"cm\")"
   ]
  },
  {
   "cell_type": "markdown",
   "id": "b76a3571-a02b-4c4e-a4bb-187a6760a864",
   "metadata": {},
   "source": [
    "Export as a pdf"
   ]
  },
  {
   "cell_type": "code",
   "execution_count": null,
   "id": "fb79255b-1f1d-40f9-920f-60c35a7cbef9",
   "metadata": {},
   "outputs": [],
   "source": [
    "pdf_exp <- paste0(treatment, \"_\", ont, \"_GO_DAG.pdf\")\n",
    "ggsave(file = pdf_exp, device = \"pdf\", plot = p, width = 20, height = 20, units = \"cm\")"
   ]
  }
 ],
 "metadata": {
  "kernelspec": {
   "display_name": "R .conda-rnotebook",
   "language": "R",
   "name": "conda-env-.conda-rnotebook-r"
  },
  "language_info": {
   "codemirror_mode": "r",
   "file_extension": ".r",
   "mimetype": "text/x-r-source",
   "name": "R",
   "pygments_lexer": "r",
   "version": "4.2.0"
  }
 },
 "nbformat": 4,
 "nbformat_minor": 5
}
